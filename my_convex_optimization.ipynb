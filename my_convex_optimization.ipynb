{
 "cells": [
  {
   "cell_type": "code",
   "execution_count": 42,
   "id": "fdea6c5d",
   "metadata": {
    "collapsed": false,
    "jupyter": {
     "outputs_hidden": false
    },
    "pycharm": {
     "name": "#%%\n"
    }
   },
   "outputs": [],
   "source": [
    "# !pip install matplotlib\n",
    "# !pip install numpy\n",
    "# !pip install scipy\n",
    "# %pip install"
   ]
  },
  {
   "cell_type": "code",
   "execution_count": 10,
   "id": "f3844fbe",
   "metadata": {
    "collapsed": false,
    "jupyter": {
     "outputs_hidden": false
    },
    "pycharm": {
     "name": "#%%\n"
    }
   },
   "outputs": [
    {
     "name": "stdout",
     "output_type": "stream",
     "text": [
      "x_min: 0.41, f(x_min): 0.29\n"
     ]
    }
   ],
   "source": [
    "import matplotlib.pyplot as plt\n",
    "import numpy as np\n",
    "from scipy.optimize import minimize_scalar\n",
    "f = lambda x : (x - 1)**4 + x**2\n",
    "res = minimize_scalar(f, method='brent')\n",
    "print('x_min: %.02f, f(x_min): %.02f' % (res.x, res.fun))"
   ]
  },
  {
   "cell_type": "code",
   "execution_count": 11,
   "id": "ac81e7a8-28d6-4181-9393-9785a0694bfe",
   "metadata": {
    "pycharm": {
     "name": "#%%\n"
    }
   },
   "outputs": [],
   "source": [
    "def print_a_function(f, res):\n",
    "    x = np.linspace(res.x - 1, res.x + 1, 100)\n",
    "    y = [f(val) for val in x]\n",
    "    plt.plot(x, y, color='blue', label='f')\n",
    "    plt.scatter(res.x, res.fun, color='red', marker='x', label='Minimum')\n",
    "\n",
    "    plt.grid()\n",
    "    plt.legend(loc = 1)\n",
    "    "
   ]
  },
  {
   "cell_type": "code",
   "execution_count": 12,
   "id": "2d910dce-0468-412e-9756-a52fec6fc6b2",
   "metadata": {
    "pycharm": {
     "name": "#%%\n"
    }
   },
   "outputs": [
    {
     "data": {
      "text/plain": "<Figure size 640x480 with 1 Axes>",
      "image/png": "[encoded data removed]"
     },
     "metadata": {},
     "output_type": "display_data"
    }
   ],
   "source": [
    "\n",
    "print_a_function(f, res)"
   ]
  },
  {
   "cell_type": "code",
   "execution_count": 13,
   "id": "c4983aa1",
   "metadata": {
    "collapsed": false,
    "jupyter": {
     "outputs_hidden": false
    },
    "pycharm": {
     "name": "#%%\n"
    }
   },
   "outputs": [],
   "source": [
    "# f = lambda x : (x - 1)**4 + x**2\n",
    "\n",
    "\n",
    "def find_root_bisection(f, min, max):\n",
    "    fa = f(min)\n",
    "    fb = f(max)\n",
    "#\n",
    "\n",
    "    for _ in range(1000):\n",
    "        c = min + (max - min) / 2\n",
    "        fc = f(c)\n",
    "\n",
    "        if np.isclose(fc, 0.0) or (max - min) / 2 < 1e-6:\n",
    "            return c\n",
    "\n",
    "        if np.sign(fa) * np.sign(fc) > 0:\n",
    "\n",
    "            min = c\n",
    "            fa = fc\n",
    "        else:\n",
    "            max = c\n",
    "\n",
    "        if fa*fc > 0:\n",
    "            min, fa = c, fc\n",
    "\n",
    "        # if fb*fc > 0:\n",
    "        #     max, fb = c, fc\n",
    "\n",
    "    return c"
   ]
  },
  {
   "cell_type": "code",
   "execution_count": 14,
   "id": "6bb4a5f3",
   "metadata": {
    "collapsed": false,
    "jupyter": {
     "outputs_hidden": false
    },
    "pycharm": {
     "name": "#%%\n"
    }
   },
   "outputs": [
    {
     "data": {
      "text/plain": "3.9999990463256836"
     },
     "execution_count": 14,
     "metadata": {},
     "output_type": "execute_result"
    }
   ],
   "source": [
    "find_root_bisection(f, 0, 4)"
   ]
  },
  {
   "cell_type": "code",
   "execution_count": 14,
   "id": "4e446159",
   "metadata": {
    "collapsed": false,
    "jupyter": {
     "outputs_hidden": false
    },
    "pycharm": {
     "name": "#%%\n"
    }
   },
   "outputs": [],
   "source": []
  },
  {
   "cell_type": "code",
   "execution_count": 15,
   "id": "d35f8936-4e32-4eb7-b9c9-348213e943ad",
   "metadata": {
    "pycharm": {
     "name": "#%%\n"
    }
   },
   "outputs": [],
   "source": [
    "def gradient_descent(f,f_prime,start,learning_rate):\n",
    "    x_0 = start\n",
    "    x_1 = x_0 - learning_rate*f_prime(x_0)\n",
    "    precision = 0.0001\n",
    "    iter = 0\n",
    "    while abs(x_1 - x_0) >= precision:\n",
    "        x_0 = x_1\n",
    "        x_1 = x_0 - learning_rate*f_prime(x_0)\n",
    "    return x_1"
   ]
  },
  {
   "cell_type": "code",
   "execution_count": 16,
   "id": "96d2db96-8d2a-49fb-b6d4-7e47ff5da9b9",
   "metadata": {
    "pycharm": {
     "name": "#%%\n"
    }
   },
   "outputs": [
    {
     "name": "stdout",
     "output_type": "stream",
     "text": [
      "xmin: 0.41, f(x_min): 0.29\n"
     ]
    }
   ],
   "source": [
    "f = lambda x : (x - 1) ** 4 + x ** 2\n",
    "f_prime = lambda x : 4*((x-1)**3) + 2*x\n",
    "start = -1\n",
    "x_min = gradient_descent(f, f_prime, start, 0.01)\n",
    "f_min = f(x_min)\n",
    "\n",
    "print(\"xmin: %0.2f, f(x_min): %0.2f\" % (x_min, f_min))"
   ]
  },
  {
   "cell_type": "code",
   "execution_count": 17,
   "outputs": [
    {
     "name": "stdout",
     "output_type": "stream",
     "text": [
      "Optimization terminated successfully.\n",
      "         Current function value: -11.000000  \n",
      "         Iterations: 3\n",
      "Optimal value: -11.0\n",
      "\n",
      " x is reached = [3. 4.]\n"
     ]
    },
    {
     "name": "stderr",
     "output_type": "stream",
     "text": [
      "C:\\Users\\user\\AppData\\Local\\Temp\\ipykernel_10584\\2874105227.py:5: DeprecationWarning: `method='simplex'` is deprecated and will be removed in SciPy 1.11.0. Please use one of the HiGHS solvers (e.g. `method='highs'`) in new code.\n",
      "  res = linprog(c, A_ub=A, b_ub=b,  bounds=(x0_bounds, x1_bounds), method='simplex', options={\"disp\": True})\n"
     ]
    }
   ],
   "source": [
    "def solve_linear_problem(A, b, c):\n",
    "    from scipy.optimize import linprog\n",
    "    x0_bounds = (0, None)\n",
    "    x1_bounds = (0, None)\n",
    "    res = linprog(c, A_ub=A, b_ub=b,  bounds=(x0_bounds, x1_bounds), method='simplex', options={\"disp\": True})\n",
    "    return res.fun,res.x\n",
    "\n",
    "A = np.array([[2,1],[-4,5],[1,-2]])\n",
    "b = np.array([10,8,3])\n",
    "c = np.array([-1,-2])\n",
    "\n",
    "optimal_value, optimal_arg = solve_linear_problem(A, b, c)\n",
    "\n",
    "print(f\"Optimal value: {optimal_value}\\n\\n x is reached = {optimal_arg}\")"
   ],
   "metadata": {
    "collapsed": false,
    "pycharm": {
     "name": "#%%\n"
    }
   }
  }
 ],
 "metadata": {
  "kernelspec": {
   "display_name": "Python 3",
   "language": "python",
   "name": "python3"
  },
  "language_info": {
   "codemirror_mode": {
    "name": "ipython",
    "version": 3
   },
   "file_extension": ".py",
   "mimetype": "text/x-python",
   "name": "python",
   "nbconvert_exporter": "python",
   "pygments_lexer": "ipython3",
   "version": "3.6.7"
  }
 },
 "nbformat": 4,
 "nbformat_minor": 5
}