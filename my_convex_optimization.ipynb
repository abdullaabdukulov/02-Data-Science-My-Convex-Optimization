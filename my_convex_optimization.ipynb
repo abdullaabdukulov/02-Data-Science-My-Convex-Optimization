{
 "cells": [
  {
   "cell_type": "code",
   "execution_count": 57,
   "id": "initial_id",
   "metadata": {
    "collapsed": true,
    "ExecuteTime": {
     "end_time": "2024-03-05T09:36:39.826143Z",
     "start_time": "2024-03-05T09:36:39.823252Z"
    }
   },
   "outputs": [],
   "source": [
    "import matplotlib.pyplot as plt\n",
    "import numpy as np\n",
    "from scipy.optimize import minimize_scalar\n",
    "from scipy import optimize as opt"
   ]
  },
  {
   "cell_type": "code",
   "outputs": [],
   "source": [
    "f = lambda x : (x - 1)**4 + x**2"
   ],
   "metadata": {
    "collapsed": false,
    "ExecuteTime": {
     "end_time": "2024-03-05T09:36:40.050580Z",
     "start_time": "2024-03-05T09:36:40.043937Z"
    }
   },
   "id": "981c5a4a45142466",
   "execution_count": 58
  },
  {
   "cell_type": "code",
   "outputs": [],
   "source": [
    "def find_root_bisection(f, min, max, precision=0.001):\n",
    "    while abs(max-min) > precision:\n",
    "        c= (min + max)/2\n",
    "        if f(c) == 0:\n",
    "            return c\n",
    "        elif f(min) * f(c) < 0:\n",
    "            max = c\n",
    "        else:\n",
    "            min = c\n",
    "    return (min + max)/2   "
   ],
   "metadata": {
    "collapsed": false,
    "ExecuteTime": {
     "end_time": "2024-03-05T09:36:40.258347Z",
     "start_time": "2024-03-05T09:36:40.254970Z"
    }
   },
   "id": "39c0f5b388716e4b",
   "execution_count": 59
  },
  {
   "cell_type": "code",
   "outputs": [],
   "source": [
    "def print_a_function(f, values):\n",
    "    res = minimize_scalar(f, method='brent')\n",
    "    print('x_min: % .02f, f(x_min): % .02f' %  (res.x, res.fun))\n",
    "    \n",
    "    # plot curve\n",
    "    x = values\n",
    "    y = [f(val) for val in x]\n",
    "    plt.plot(x, y, color='blue', label='f')\n",
    "    \n",
    "    # plot optima\n",
    "    plt.scatter(res.x, res.fun, color='red', marker='x', label='Minimum')\n",
    "    \n",
    "    plt.grid()\n",
    "    plt.legend(loc = 1)"
   ],
   "metadata": {
    "collapsed": false,
    "ExecuteTime": {
     "end_time": "2024-03-05T09:36:40.443230Z",
     "start_time": "2024-03-05T09:36:40.439333Z"
    }
   },
   "id": "1521b72b3d91099b",
   "execution_count": 60
  },
  {
   "cell_type": "code",
   "outputs": [],
   "source": [
    "def find_root_newton_raphson(f, f_deriv, x):\n",
    "    for i in range(100):\n",
    "        if abs(f(x)) < 0.001:\n",
    "            return x\n",
    "        x = x - f(x) / f_deriv(x)\n",
    "    return None"
   ],
   "metadata": {
    "collapsed": false,
    "ExecuteTime": {
     "end_time": "2024-03-05T09:36:40.625977Z",
     "start_time": "2024-03-05T09:36:40.622802Z"
    }
   },
   "id": "70561c94feee6d63",
   "execution_count": 61
  },
  {
   "cell_type": "code",
   "outputs": [],
   "source": [
    "def gradient_descent(f, f_prime, start, learning_rate = 0.1):\n",
    "    xk = start\n",
    "    while True:\n",
    "        xk_plus = xk - learning_rate * f_prime(xk)\n",
    "        if abs(xk_plus - xk) < 0.001:\n",
    "            break\n",
    "        xk = xk_plus\n",
    "    return xk"
   ],
   "metadata": {
    "collapsed": false,
    "ExecuteTime": {
     "end_time": "2024-03-05T09:36:40.789178Z",
     "start_time": "2024-03-05T09:36:40.785411Z"
    }
   },
   "id": "485ba1cb20e62c6",
   "execution_count": 62
  },
  {
   "cell_type": "code",
   "outputs": [],
   "source": [
    "def solve_linear_problem(A, b, c):\n",
    "    bounds = [(0, None), (0, None)]\n",
    "    res = opt.linprog(c, A_ub=A, b_ub=b, bounds=bounds)\n",
    "    return res.fun, res.x"
   ],
   "metadata": {
    "collapsed": false,
    "ExecuteTime": {
     "end_time": "2024-03-05T09:36:40.987891Z",
     "start_time": "2024-03-05T09:36:40.984600Z"
    }
   },
   "id": "4656f4a13f470dbc",
   "execution_count": 63
  },
  {
   "cell_type": "code",
   "outputs": [
    {
     "name": "stdout",
     "output_type": "stream",
     "text": [
      "x_min:  0.41, f(x_min):  0.29\n"
     ]
    },
    {
     "data": {
      "text/plain": "<Figure size 640x480 with 1 Axes>",
      "image/png": "[encoded data removed]"
     },
     "metadata": {},
     "output_type": "display_data"
    }
   ],
   "source": [
    "values = np.linspace(-2, 3, 100)\n",
    "print_a_function(f, values)"
   ],
   "metadata": {
    "collapsed": false,
    "ExecuteTime": {
     "end_time": "2024-03-05T09:36:41.804082Z",
     "start_time": "2024-03-05T09:36:41.651510Z"
    }
   },
   "id": "2f10cade083aea13",
   "execution_count": 64
  },
  {
   "cell_type": "code",
   "outputs": [
    {
     "name": "stdout",
     "output_type": "stream",
     "text": [
      "Root (Bisection Method): 3.00\n"
     ]
    }
   ],
   "source": [
    "root_bisection = find_root_bisection(f, -2, 3)\n",
    "print(\"Root (Bisection Method): {:.2f}\".format(root_bisection))"
   ],
   "metadata": {
    "collapsed": false,
    "ExecuteTime": {
     "end_time": "2024-03-05T09:36:42.636049Z",
     "start_time": "2024-03-05T09:36:42.631501Z"
    }
   },
   "id": "5d1e016576771e70",
   "execution_count": 65
  },
  {
   "cell_type": "code",
   "outputs": [
    {
     "name": "stdout",
     "output_type": "stream",
     "text": [
      "Root (Newton-Raphson Method): No valid result\n"
     ]
    }
   ],
   "source": [
    "f_prime = lambda x: 4 * ((x - 1) ** 3) + 2 * x\n",
    "guess = 0.1\n",
    "root_newton_raphson = find_root_newton_raphson(f, f_prime, guess)\n",
    "if root_newton_raphson:\n",
    "    print(\"Root (Newton-Raphson Method): % .2f\" % root_newton_raphson)\n",
    "else:\n",
    "    print(\"Root (Newton-Raphson Method): No valid result\")"
   ],
   "metadata": {
    "collapsed": false,
    "ExecuteTime": {
     "end_time": "2024-03-05T09:37:04.250093Z",
     "start_time": "2024-03-05T09:37:04.246603Z"
    }
   },
   "id": "47f745f52b4ee589",
   "execution_count": 69
  },
  {
   "cell_type": "code",
   "outputs": [
    {
     "name": "stdout",
     "output_type": "stream",
     "text": [
      "xmin:  0.40, f(x_min):  0.29\n"
     ]
    }
   ],
   "source": [
    "f = lambda x : (x - 1) ** 4 + x ** 2\n",
    "f_prime = lambda x : 4*((x-1)**3) + 2*x\n",
    "start = -1\n",
    "x_min = gradient_descent(f, f_prime, start, 0.01)\n",
    "f_min = f(x_min)\n",
    "\n",
    "print(\"xmin: % 0.2f, f(x_min): % 0.2f\" %  (x_min, f_min))"
   ],
   "metadata": {
    "collapsed": false,
    "ExecuteTime": {
     "end_time": "2024-03-05T09:37:07.048685Z",
     "start_time": "2024-03-05T09:37:07.044686Z"
    }
   },
   "id": "ac8ee6cfbe72ccde",
   "execution_count": 70
  },
  {
   "cell_type": "code",
   "outputs": [
    {
     "name": "stdout",
     "output_type": "stream",
     "text": [
      "The optimal value is:  -18.0  and is reached for x =  [4. 3.]\n"
     ]
    }
   ],
   "source": [
    "c = np.array([-3, -2])\n",
    "A = np.array([[1, 0], [0, 1], [3, 2]])\n",
    "b = np.array([4, 3, 18])\n",
    "optimal_value, optimal_arg = solve_linear_problem(A, b, c)\n",
    "\n",
    "print(\"The optimal value is: \", optimal_value, \" and is reached for x = \", optimal_arg)"
   ],
   "metadata": {
    "collapsed": false,
    "ExecuteTime": {
     "end_time": "2024-03-05T09:37:07.493696Z",
     "start_time": "2024-03-05T09:37:07.487533Z"
    }
   },
   "id": "6b66d71ba7bab1ab",
   "execution_count": 71
  }
 ],
 "metadata": {
  "kernelspec": {
   "display_name": "Python 3",
   "language": "python",
   "name": "python3"
  },
  "language_info": {
   "codemirror_mode": {
    "name": "ipython",
    "version": 2
   },
   "file_extension": ".py",
   "mimetype": "text/x-python",
   "name": "python",
   "nbconvert_exporter": "python",
   "pygments_lexer": "ipython2",
   "version": "2.7.6"
  }
 },
 "nbformat": 4,
 "nbformat_minor": 5
}
